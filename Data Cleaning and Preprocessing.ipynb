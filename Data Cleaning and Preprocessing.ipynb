{
  "metadata": {
    "kernelspec": {
      "name": "python",
      "display_name": "Python (Pyodide)",
      "language": "python"
    },
    "language_info": {
      "codemirror_mode": {
        "name": "python",
        "version": 3
      },
      "file_extension": ".py",
      "mimetype": "text/x-python",
      "name": "python",
      "nbconvert_exporter": "python",
      "pygments_lexer": "ipython3",
      "version": "3.8"
    }
  },
  "nbformat_minor": 5,
  "nbformat": 4,
  "cells": [
    {
      "id": "c9457dc6-f09f-46c8-83ed-02cf280888b7",
      "cell_type": "markdown",
      "source": "# Medical Appointment No Shows Analysis\n### - Kritika Kumari",
      "metadata": {}
    },
    {
      "id": "8c2c09f9-39f0-4da2-a4b1-e9dfc5e6c7e2",
      "cell_type": "markdown",
      "source": "In this project, I will focus on Data Cleaning and Data Preprocessing of the Medical Appointment No Shows Dataset.\nThe dataset contains patient appointment data.",
      "metadata": {}
    },
    {
      "id": "54a6ddf1-c3ed-4a21-9f09-cc51195c0f38",
      "cell_type": "markdown",
      "source": "## Importing the required libraries",
      "metadata": {}
    },
    {
      "id": "db8aeb11-7421-4d05-b10f-713f1c4b6228",
      "cell_type": "code",
      "source": "import pandas as pd\nimport numpy as np",
      "metadata": {
        "trusted": true
      },
      "outputs": [],
      "execution_count": 1
    },
    {
      "id": "32fb61f1-2dea-4a20-8e1f-38d0599c58eb",
      "cell_type": "code",
      "source": "#Read the dataset to a pandas dataframe\n\nfile_name = \"no_shows.csv\"\ndf = pd.read_csv(file_name)",
      "metadata": {
        "trusted": true
      },
      "outputs": [],
      "execution_count": 2
    },
    {
      "id": "0765de8a-69d9-415c-9d7e-aefd582ea3c8",
      "cell_type": "markdown",
      "source": "## Data Exploration",
      "metadata": {}
    },
    {
      "id": "2ed58a71-d0ad-4c51-a175-1b0ce14089bb",
      "cell_type": "code",
      "source": "#Display that first few rows of the dataset\n\ndf.head()",
      "metadata": {
        "trusted": true
      },
      "outputs": [
        {
          "execution_count": 3,
          "output_type": "execute_result",
          "data": {
            "text/plain": "      PatientId  AppointmentID Gender          ScheduledDay  \\\n0  2.987250e+13        5642903      F  2016-04-29T18:38:08Z   \n1  5.589978e+14        5642503      M  2016-04-29T16:08:27Z   \n2  4.262962e+12        5642549      F  2016-04-29T16:19:04Z   \n3  8.679512e+11        5642828      F  2016-04-29T17:29:31Z   \n4  8.841186e+12        5642494      F  2016-04-29T16:07:23Z   \n\n         AppointmentDay  Age      Neighbourhood  Scholarship  Hipertension  \\\n0  2016-04-29T00:00:00Z   62    JARDIM DA PENHA            0             1   \n1  2016-04-29T00:00:00Z   56    JARDIM DA PENHA            0             0   \n2  2016-04-29T00:00:00Z   62      MATA DA PRAIA            0             0   \n3  2016-04-29T00:00:00Z    8  PONTAL DE CAMBURI            0             0   \n4  2016-04-29T00:00:00Z   56    JARDIM DA PENHA            0             1   \n\n   Diabetes  Alcoholism  Handcap  SMS_received No-show  \n0         0           0        0             0      No  \n1         0           0        0             0      No  \n2         0           0        0             0      No  \n3         0           0        0             0      No  \n4         1           0        0             0      No  ",
            "text/html": "<div>\n<style scoped>\n    .dataframe tbody tr th:only-of-type {\n        vertical-align: middle;\n    }\n\n    .dataframe tbody tr th {\n        vertical-align: top;\n    }\n\n    .dataframe thead th {\n        text-align: right;\n    }\n</style>\n<table border=\"1\" class=\"dataframe\">\n  <thead>\n    <tr style=\"text-align: right;\">\n      <th></th>\n      <th>PatientId</th>\n      <th>AppointmentID</th>\n      <th>Gender</th>\n      <th>ScheduledDay</th>\n      <th>AppointmentDay</th>\n      <th>Age</th>\n      <th>Neighbourhood</th>\n      <th>Scholarship</th>\n      <th>Hipertension</th>\n      <th>Diabetes</th>\n      <th>Alcoholism</th>\n      <th>Handcap</th>\n      <th>SMS_received</th>\n      <th>No-show</th>\n    </tr>\n  </thead>\n  <tbody>\n    <tr>\n      <th>0</th>\n      <td>2.987250e+13</td>\n      <td>5642903</td>\n      <td>F</td>\n      <td>2016-04-29T18:38:08Z</td>\n      <td>2016-04-29T00:00:00Z</td>\n      <td>62</td>\n      <td>JARDIM DA PENHA</td>\n      <td>0</td>\n      <td>1</td>\n      <td>0</td>\n      <td>0</td>\n      <td>0</td>\n      <td>0</td>\n      <td>No</td>\n    </tr>\n    <tr>\n      <th>1</th>\n      <td>5.589978e+14</td>\n      <td>5642503</td>\n      <td>M</td>\n      <td>2016-04-29T16:08:27Z</td>\n      <td>2016-04-29T00:00:00Z</td>\n      <td>56</td>\n      <td>JARDIM DA PENHA</td>\n      <td>0</td>\n      <td>0</td>\n      <td>0</td>\n      <td>0</td>\n      <td>0</td>\n      <td>0</td>\n      <td>No</td>\n    </tr>\n    <tr>\n      <th>2</th>\n      <td>4.262962e+12</td>\n      <td>5642549</td>\n      <td>F</td>\n      <td>2016-04-29T16:19:04Z</td>\n      <td>2016-04-29T00:00:00Z</td>\n      <td>62</td>\n      <td>MATA DA PRAIA</td>\n      <td>0</td>\n      <td>0</td>\n      <td>0</td>\n      <td>0</td>\n      <td>0</td>\n      <td>0</td>\n      <td>No</td>\n    </tr>\n    <tr>\n      <th>3</th>\n      <td>8.679512e+11</td>\n      <td>5642828</td>\n      <td>F</td>\n      <td>2016-04-29T17:29:31Z</td>\n      <td>2016-04-29T00:00:00Z</td>\n      <td>8</td>\n      <td>PONTAL DE CAMBURI</td>\n      <td>0</td>\n      <td>0</td>\n      <td>0</td>\n      <td>0</td>\n      <td>0</td>\n      <td>0</td>\n      <td>No</td>\n    </tr>\n    <tr>\n      <th>4</th>\n      <td>8.841186e+12</td>\n      <td>5642494</td>\n      <td>F</td>\n      <td>2016-04-29T16:07:23Z</td>\n      <td>2016-04-29T00:00:00Z</td>\n      <td>56</td>\n      <td>JARDIM DA PENHA</td>\n      <td>0</td>\n      <td>1</td>\n      <td>1</td>\n      <td>0</td>\n      <td>0</td>\n      <td>0</td>\n      <td>No</td>\n    </tr>\n  </tbody>\n</table>\n</div>"
          },
          "metadata": {}
        }
      ],
      "execution_count": 3
    },
    {
      "id": "05780089-c4bc-4815-9c88-6e1b7b433931",
      "cell_type": "markdown",
      "source": "Display the number of rows and columns in the dataset",
      "metadata": {}
    },
    {
      "id": "20a982ca-0508-4d96-9b60-8d3d6a2e35e2",
      "cell_type": "code",
      "source": "#Number of rows\nprint(\"Number of rows:\", len(df))\n\n#Number of columns\nprint(\"Number of columns:\", len(df.columns))",
      "metadata": {
        "trusted": true
      },
      "outputs": [
        {
          "name": "stdout",
          "output_type": "stream",
          "text": "Number of rows: 110527\nNumber of columns: 14\n"
        }
      ],
      "execution_count": 4
    },
    {
      "id": "e30c495b-fd1a-4714-978b-db35d80fba93",
      "cell_type": "markdown",
      "source": "Identifying the Data types",
      "metadata": {}
    },
    {
      "id": "a77cd609-01fc-4335-8b4d-04feab338a98",
      "cell_type": "code",
      "source": "df.dtypes",
      "metadata": {
        "trusted": true
      },
      "outputs": [
        {
          "execution_count": 5,
          "output_type": "execute_result",
          "data": {
            "text/plain": "PatientId         float64\nAppointmentID       int64\nGender             object\nScheduledDay       object\nAppointmentDay     object\nAge                 int64\nNeighbourhood      object\nScholarship         int64\nHipertension        int64\nDiabetes            int64\nAlcoholism          int64\nHandcap             int64\nSMS_received        int64\nNo-show            object\ndtype: object"
          },
          "metadata": {}
        }
      ],
      "execution_count": 5
    },
    {
      "id": "13c77026-8b77-4aa7-911f-7d4790de31e3",
      "cell_type": "markdown",
      "source": "Changing the data types of columns:",
      "metadata": {}
    },
    {
      "id": "631e59eb-3435-4623-88b1-13b16ea9d482",
      "cell_type": "code",
      "source": "#For integers\n\ndf['PatientId'] = df['PatientId'].astype('int64')",
      "metadata": {
        "trusted": true
      },
      "outputs": [],
      "execution_count": 6
    },
    {
      "id": "48db6f05-f95c-4006-80c9-4b1fc3783b95",
      "cell_type": "code",
      "source": "#For binary columns\n\nbin_cols = ['Scholarship', 'Hipertension', 'Diabetes', 'Alcoholism', 'Handcap', 'SMS_received']\n\nfor col in bin_cols:\n    df[col] = df[col].astype('bool')",
      "metadata": {
        "trusted": true
      },
      "outputs": [],
      "execution_count": 7
    },
    {
      "id": "6a1223a6-3562-449a-a6b1-78e46b1361c8",
      "cell_type": "code",
      "source": "#For date types\n\ndf['ScheduledDay'] = pd.to_datetime(df['ScheduledDay'], errors='coerce')\ndf['AppointmentDay'] = pd.to_datetime(df['AppointmentDay'], errors='coerce')",
      "metadata": {
        "trusted": true
      },
      "outputs": [],
      "execution_count": 8
    },
    {
      "id": "b3f21277-030c-4881-b2b8-f67cabf267f4",
      "cell_type": "markdown",
      "source": "Checking the updated data types",
      "metadata": {}
    },
    {
      "id": "a16d6d77-3be3-4882-bab6-ebe68ea94880",
      "cell_type": "code",
      "source": "df.dtypes",
      "metadata": {
        "trusted": true
      },
      "outputs": [
        {
          "execution_count": 9,
          "output_type": "execute_result",
          "data": {
            "text/plain": "PatientId                       int64\nAppointmentID                   int64\nGender                         object\nScheduledDay      datetime64[ns, UTC]\nAppointmentDay    datetime64[ns, UTC]\nAge                             int64\nNeighbourhood                  object\nScholarship                      bool\nHipertension                     bool\nDiabetes                         bool\nAlcoholism                       bool\nHandcap                          bool\nSMS_received                     bool\nNo-show                        object\ndtype: object"
          },
          "metadata": {}
        }
      ],
      "execution_count": 9
    },
    {
      "id": "4ad43517-f17c-4427-8f18-0acbef7be5f2",
      "cell_type": "code",
      "source": "df.head()",
      "metadata": {
        "trusted": true
      },
      "outputs": [
        {
          "execution_count": 10,
          "output_type": "execute_result",
          "data": {
            "text/plain": "         PatientId  AppointmentID Gender              ScheduledDay  \\\n0   29872499824296        5642903      F 2016-04-29 18:38:08+00:00   \n1  558997776694438        5642503      M 2016-04-29 16:08:27+00:00   \n2    4262962299951        5642549      F 2016-04-29 16:19:04+00:00   \n3     867951213174        5642828      F 2016-04-29 17:29:31+00:00   \n4    8841186448183        5642494      F 2016-04-29 16:07:23+00:00   \n\n             AppointmentDay  Age      Neighbourhood  Scholarship  \\\n0 2016-04-29 00:00:00+00:00   62    JARDIM DA PENHA        False   \n1 2016-04-29 00:00:00+00:00   56    JARDIM DA PENHA        False   \n2 2016-04-29 00:00:00+00:00   62      MATA DA PRAIA        False   \n3 2016-04-29 00:00:00+00:00    8  PONTAL DE CAMBURI        False   \n4 2016-04-29 00:00:00+00:00   56    JARDIM DA PENHA        False   \n\n   Hipertension  Diabetes  Alcoholism  Handcap  SMS_received No-show  \n0          True     False       False    False         False      No  \n1         False     False       False    False         False      No  \n2         False     False       False    False         False      No  \n3         False     False       False    False         False      No  \n4          True      True       False    False         False      No  ",
            "text/html": "<div>\n<style scoped>\n    .dataframe tbody tr th:only-of-type {\n        vertical-align: middle;\n    }\n\n    .dataframe tbody tr th {\n        vertical-align: top;\n    }\n\n    .dataframe thead th {\n        text-align: right;\n    }\n</style>\n<table border=\"1\" class=\"dataframe\">\n  <thead>\n    <tr style=\"text-align: right;\">\n      <th></th>\n      <th>PatientId</th>\n      <th>AppointmentID</th>\n      <th>Gender</th>\n      <th>ScheduledDay</th>\n      <th>AppointmentDay</th>\n      <th>Age</th>\n      <th>Neighbourhood</th>\n      <th>Scholarship</th>\n      <th>Hipertension</th>\n      <th>Diabetes</th>\n      <th>Alcoholism</th>\n      <th>Handcap</th>\n      <th>SMS_received</th>\n      <th>No-show</th>\n    </tr>\n  </thead>\n  <tbody>\n    <tr>\n      <th>0</th>\n      <td>29872499824296</td>\n      <td>5642903</td>\n      <td>F</td>\n      <td>2016-04-29 18:38:08+00:00</td>\n      <td>2016-04-29 00:00:00+00:00</td>\n      <td>62</td>\n      <td>JARDIM DA PENHA</td>\n      <td>False</td>\n      <td>True</td>\n      <td>False</td>\n      <td>False</td>\n      <td>False</td>\n      <td>False</td>\n      <td>No</td>\n    </tr>\n    <tr>\n      <th>1</th>\n      <td>558997776694438</td>\n      <td>5642503</td>\n      <td>M</td>\n      <td>2016-04-29 16:08:27+00:00</td>\n      <td>2016-04-29 00:00:00+00:00</td>\n      <td>56</td>\n      <td>JARDIM DA PENHA</td>\n      <td>False</td>\n      <td>False</td>\n      <td>False</td>\n      <td>False</td>\n      <td>False</td>\n      <td>False</td>\n      <td>No</td>\n    </tr>\n    <tr>\n      <th>2</th>\n      <td>4262962299951</td>\n      <td>5642549</td>\n      <td>F</td>\n      <td>2016-04-29 16:19:04+00:00</td>\n      <td>2016-04-29 00:00:00+00:00</td>\n      <td>62</td>\n      <td>MATA DA PRAIA</td>\n      <td>False</td>\n      <td>False</td>\n      <td>False</td>\n      <td>False</td>\n      <td>False</td>\n      <td>False</td>\n      <td>No</td>\n    </tr>\n    <tr>\n      <th>3</th>\n      <td>867951213174</td>\n      <td>5642828</td>\n      <td>F</td>\n      <td>2016-04-29 17:29:31+00:00</td>\n      <td>2016-04-29 00:00:00+00:00</td>\n      <td>8</td>\n      <td>PONTAL DE CAMBURI</td>\n      <td>False</td>\n      <td>False</td>\n      <td>False</td>\n      <td>False</td>\n      <td>False</td>\n      <td>False</td>\n      <td>No</td>\n    </tr>\n    <tr>\n      <th>4</th>\n      <td>8841186448183</td>\n      <td>5642494</td>\n      <td>F</td>\n      <td>2016-04-29 16:07:23+00:00</td>\n      <td>2016-04-29 00:00:00+00:00</td>\n      <td>56</td>\n      <td>JARDIM DA PENHA</td>\n      <td>False</td>\n      <td>True</td>\n      <td>True</td>\n      <td>False</td>\n      <td>False</td>\n      <td>False</td>\n      <td>No</td>\n    </tr>\n  </tbody>\n</table>\n</div>"
          },
          "metadata": {}
        }
      ],
      "execution_count": 10
    },
    {
      "id": "4d691319-b448-429b-947d-702ff647e341",
      "cell_type": "code",
      "source": "# Remove timezone information from datetime columns\n\ndf['ScheduledDay'] = pd.to_datetime(df['ScheduledDay']).dt.tz_localize(None)\ndf['AppointmentDay'] = pd.to_datetime(df['AppointmentDay']).dt.tz_localize(None)",
      "metadata": {
        "trusted": true
      },
      "outputs": [],
      "execution_count": 11
    },
    {
      "id": "9999daa5-6b5c-441f-a347-ca4ce2d83761",
      "cell_type": "code",
      "source": "df.head()",
      "metadata": {
        "trusted": true
      },
      "outputs": [
        {
          "execution_count": 12,
          "output_type": "execute_result",
          "data": {
            "text/plain": "         PatientId  AppointmentID Gender        ScheduledDay AppointmentDay  \\\n0   29872499824296        5642903      F 2016-04-29 18:38:08     2016-04-29   \n1  558997776694438        5642503      M 2016-04-29 16:08:27     2016-04-29   \n2    4262962299951        5642549      F 2016-04-29 16:19:04     2016-04-29   \n3     867951213174        5642828      F 2016-04-29 17:29:31     2016-04-29   \n4    8841186448183        5642494      F 2016-04-29 16:07:23     2016-04-29   \n\n   Age      Neighbourhood  Scholarship  Hipertension  Diabetes  Alcoholism  \\\n0   62    JARDIM DA PENHA        False          True     False       False   \n1   56    JARDIM DA PENHA        False         False     False       False   \n2   62      MATA DA PRAIA        False         False     False       False   \n3    8  PONTAL DE CAMBURI        False         False     False       False   \n4   56    JARDIM DA PENHA        False          True      True       False   \n\n   Handcap  SMS_received No-show  \n0    False         False      No  \n1    False         False      No  \n2    False         False      No  \n3    False         False      No  \n4    False         False      No  ",
            "text/html": "<div>\n<style scoped>\n    .dataframe tbody tr th:only-of-type {\n        vertical-align: middle;\n    }\n\n    .dataframe tbody tr th {\n        vertical-align: top;\n    }\n\n    .dataframe thead th {\n        text-align: right;\n    }\n</style>\n<table border=\"1\" class=\"dataframe\">\n  <thead>\n    <tr style=\"text-align: right;\">\n      <th></th>\n      <th>PatientId</th>\n      <th>AppointmentID</th>\n      <th>Gender</th>\n      <th>ScheduledDay</th>\n      <th>AppointmentDay</th>\n      <th>Age</th>\n      <th>Neighbourhood</th>\n      <th>Scholarship</th>\n      <th>Hipertension</th>\n      <th>Diabetes</th>\n      <th>Alcoholism</th>\n      <th>Handcap</th>\n      <th>SMS_received</th>\n      <th>No-show</th>\n    </tr>\n  </thead>\n  <tbody>\n    <tr>\n      <th>0</th>\n      <td>29872499824296</td>\n      <td>5642903</td>\n      <td>F</td>\n      <td>2016-04-29 18:38:08</td>\n      <td>2016-04-29</td>\n      <td>62</td>\n      <td>JARDIM DA PENHA</td>\n      <td>False</td>\n      <td>True</td>\n      <td>False</td>\n      <td>False</td>\n      <td>False</td>\n      <td>False</td>\n      <td>No</td>\n    </tr>\n    <tr>\n      <th>1</th>\n      <td>558997776694438</td>\n      <td>5642503</td>\n      <td>M</td>\n      <td>2016-04-29 16:08:27</td>\n      <td>2016-04-29</td>\n      <td>56</td>\n      <td>JARDIM DA PENHA</td>\n      <td>False</td>\n      <td>False</td>\n      <td>False</td>\n      <td>False</td>\n      <td>False</td>\n      <td>False</td>\n      <td>No</td>\n    </tr>\n    <tr>\n      <th>2</th>\n      <td>4262962299951</td>\n      <td>5642549</td>\n      <td>F</td>\n      <td>2016-04-29 16:19:04</td>\n      <td>2016-04-29</td>\n      <td>62</td>\n      <td>MATA DA PRAIA</td>\n      <td>False</td>\n      <td>False</td>\n      <td>False</td>\n      <td>False</td>\n      <td>False</td>\n      <td>False</td>\n      <td>No</td>\n    </tr>\n    <tr>\n      <th>3</th>\n      <td>867951213174</td>\n      <td>5642828</td>\n      <td>F</td>\n      <td>2016-04-29 17:29:31</td>\n      <td>2016-04-29</td>\n      <td>8</td>\n      <td>PONTAL DE CAMBURI</td>\n      <td>False</td>\n      <td>False</td>\n      <td>False</td>\n      <td>False</td>\n      <td>False</td>\n      <td>False</td>\n      <td>No</td>\n    </tr>\n    <tr>\n      <th>4</th>\n      <td>8841186448183</td>\n      <td>5642494</td>\n      <td>F</td>\n      <td>2016-04-29 16:07:23</td>\n      <td>2016-04-29</td>\n      <td>56</td>\n      <td>JARDIM DA PENHA</td>\n      <td>False</td>\n      <td>True</td>\n      <td>True</td>\n      <td>False</td>\n      <td>False</td>\n      <td>False</td>\n      <td>No</td>\n    </tr>\n  </tbody>\n</table>\n</div>"
          },
          "metadata": {}
        }
      ],
      "execution_count": 12
    },
    {
      "id": "eb5d00c2-1e66-491e-b282-a2b8ac04cf09",
      "cell_type": "markdown",
      "source": "## Data Cleaning",
      "metadata": {}
    },
    {
      "id": "1f5612de-d5d9-4ac8-a2cb-0d07f91bd90d",
      "cell_type": "markdown",
      "source": "Renaming columns",
      "metadata": {}
    },
    {
      "id": "b64d4015-2119-4852-adec-d6a617fb9583",
      "cell_type": "code",
      "source": "df = df.rename(columns={'PatientId': 'Patient_Id', 'AppointmentID': 'Appointment_Id',\n                        'ScheduledDay': 'Scheduled_Day', 'AppointmentDay': 'Appointment_Day', 'No-show': 'No_show'})",
      "metadata": {
        "trusted": true
      },
      "outputs": [],
      "execution_count": 13
    },
    {
      "id": "8a59bb6c-9c88-4c3e-b233-7a049da701e8",
      "cell_type": "code",
      "source": "df['No_show_bool'] = df['No_show'].str.strip().replace({'Yes': 1, 'No': 0}).astype('bool')",
      "metadata": {
        "trusted": true
      },
      "outputs": [
        {
          "name": "stderr",
          "output_type": "stream",
          "text": "<ipython-input-14-bc991e2af987>:1: FutureWarning: Downcasting behavior in `replace` is deprecated and will be removed in a future version. To retain the old behavior, explicitly call `result.infer_objects(copy=False)`. To opt-in to the future behavior, set `pd.set_option('future.no_silent_downcasting', True)`\n  df['No_show_bool'] = df['No_show'].str.strip().replace({'Yes': 1, 'No': 0}).astype('bool')\n"
        }
      ],
      "execution_count": 14
    },
    {
      "id": "bc8a4ba8-a441-44c0-8a3f-01f2e3fad53b",
      "cell_type": "markdown",
      "source": "For outliers and consistency",
      "metadata": {}
    },
    {
      "id": "c4c7162f-c242-45ac-a011-336ae1946b78",
      "cell_type": "code",
      "source": "#For outliers in Age\ndf = df[df['Age'].between(0, 120)]",
      "metadata": {
        "trusted": true
      },
      "outputs": [],
      "execution_count": 15
    },
    {
      "id": "6446c24b-4f50-42f9-a036-30ecc98cbb3c",
      "cell_type": "code",
      "source": "#For logical relationships in dates\ndf = df[df['Scheduled_Day'] <= df['Appointment_Day']]",
      "metadata": {
        "trusted": true
      },
      "outputs": [],
      "execution_count": 16
    },
    {
      "id": "408318fd-6d75-46e5-bb47-31c26dfca956",
      "cell_type": "markdown",
      "source": "For duplicated data",
      "metadata": {}
    },
    {
      "id": "058acd8d-de45-4024-8809-caaa2c808594",
      "cell_type": "code",
      "source": "#Identifying duplicate rows\n\nduplicated_data = df[df.duplicated(keep=False)]\nprint(\"Number of duplicate rows:\", df.duplicated().sum())",
      "metadata": {
        "trusted": true
      },
      "outputs": [
        {
          "name": "stdout",
          "output_type": "stream",
          "text": "Number of duplicate rows: 0\n"
        }
      ],
      "execution_count": 17
    },
    {
      "id": "dd56ea97-a3eb-4261-a49e-037e57c8c6c4",
      "cell_type": "markdown",
      "source": "There's no duplicated rows, but we can remove them using:\nnew_df = df.drop_duplicates()",
      "metadata": {}
    },
    {
      "id": "3f9a99ed-4a0a-423a-b5d3-5b6f6947e442",
      "cell_type": "markdown",
      "source": "For missing data",
      "metadata": {}
    },
    {
      "id": "598e1330-2159-471e-84d6-8b3d10933a9d",
      "cell_type": "code",
      "source": "print(\"Missing values per column:\")\nprint(df.isnull().sum())",
      "metadata": {
        "trusted": true
      },
      "outputs": [
        {
          "name": "stdout",
          "output_type": "stream",
          "text": "Missing values per column:\nPatient_Id         0\nAppointment_Id     0\nGender             0\nScheduled_Day      0\nAppointment_Day    0\nAge                0\nNeighbourhood      0\nScholarship        0\nHipertension       0\nDiabetes           0\nAlcoholism         0\nHandcap            0\nSMS_received       0\nNo_show            0\nNo_show_bool       0\ndtype: int64\n"
        }
      ],
      "execution_count": 18
    },
    {
      "id": "9e4fea12-636d-4b01-a128-4432970e143b",
      "cell_type": "code",
      "source": "#Identifying missing values column wise\n\nmissing_data = df.isnull()\nfor column in missing_data.columns.values.tolist():\n  print(missing_data[column].value_counts())\n  print(\"\")",
      "metadata": {
        "trusted": true
      },
      "outputs": [
        {
          "name": "stdout",
          "output_type": "stream",
          "text": "Patient_Id\nFalse    71959\nName: count, dtype: int64\n\nAppointment_Id\nFalse    71959\nName: count, dtype: int64\n\nGender\nFalse    71959\nName: count, dtype: int64\n\nScheduled_Day\nFalse    71959\nName: count, dtype: int64\n\nAppointment_Day\nFalse    71959\nName: count, dtype: int64\n\nAge\nFalse    71959\nName: count, dtype: int64\n\nNeighbourhood\nFalse    71959\nName: count, dtype: int64\n\nScholarship\nFalse    71959\nName: count, dtype: int64\n\nHipertension\nFalse    71959\nName: count, dtype: int64\n\nDiabetes\nFalse    71959\nName: count, dtype: int64\n\nAlcoholism\nFalse    71959\nName: count, dtype: int64\n\nHandcap\nFalse    71959\nName: count, dtype: int64\n\nSMS_received\nFalse    71959\nName: count, dtype: int64\n\nNo_show\nFalse    71959\nName: count, dtype: int64\n\nNo_show_bool\nFalse    71959\nName: count, dtype: int64\n\n"
        }
      ],
      "execution_count": 20
    },
    {
      "id": "8ba9f522-54a1-49c8-bdf7-d8f63a92711c",
      "cell_type": "markdown",
      "source": "There's no missing data but we can use different methods to impute or drop missing data.\n\nFor example, we'd drop from columns PatientId and AppointmentId because they're essential columns. For numerical columns we can impute with mean or median. For categorical columns we can impute with the most frequent value.",
      "metadata": {}
    },
    {
      "id": "e373549a-a4e6-45c3-931d-f8aa37f81e02",
      "cell_type": "markdown",
      "source": "### Exporting cleaned dataset:",
      "metadata": {}
    },
    {
      "id": "efc95823-7366-4c43-8349-f49caaa1c8fb",
      "cell_type": "code",
      "source": "df.to_csv(\"no_shows_cleaned.csv\", index=False)\nprint(\"Saved the cleaned dataset\")",
      "metadata": {
        "trusted": true
      },
      "outputs": [
        {
          "name": "stdout",
          "output_type": "stream",
          "text": "Saved the cleaned dataset\n"
        }
      ],
      "execution_count": 21
    },
    {
      "id": "162825af-1286-4d78-8fb1-f02c7f2d1b65",
      "cell_type": "code",
      "source": "",
      "metadata": {
        "trusted": true
      },
      "outputs": [],
      "execution_count": null
    }
  ]
}